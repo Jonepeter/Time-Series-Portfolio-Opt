{
 "cells": [
  {
   "cell_type": "markdown",
   "metadata": {},
   "source": [
    "# Task 4: Portfolio Optimization\n",
    "## Modern Portfolio Theory Implementation"
   ]
  },
  {
   "cell_type": "code",
   "execution_count": null,
   "metadata": {},
   "outputs": [],
   "source": [
    "import sys\n",
    "sys.path.append('../src')\n",
    "\n",
    "from data_loader import DataLoader\n",
    "from portfolio_optimizer import PortfolioOptimizer\n",
    "import pandas as pd"
   ]
  },
  {
   "cell_type": "code",
   "execution_count": null,
   "metadata": {},
   "outputs": [],
   "source": [
    "# Load returns data\n",
    "loader = DataLoader()\n",
    "raw_data = loader.fetch_data()\n",
    "processed_data = loader.preprocess_data(raw_data)\n",
    "returns_data = loader.get_combined_returns(processed_data)"
   ]
  },
  {
   "cell_type": "code",
   "execution_count": null,
   "metadata": {},
   "outputs": [],
   "source": [
    "# Portfolio optimization\n",
    "optimizer = PortfolioOptimizer(returns_data)\n",
    "\n",
    "# Find optimal portfolios\n",
    "max_sharpe_weights = optimizer.optimize_portfolio('sharpe')\n",
    "min_vol_weights = optimizer.optimize_portfolio('volatility')\n",
    "\n",
    "assets = ['TSLA', 'BND', 'SPY']\n",
    "print(\"Maximum Sharpe Ratio Portfolio:\")\n",
    "for i, asset in enumerate(assets):\n",
    "    print(f\"{asset}: {max_sharpe_weights[i]:.3f}\")\n",
    "\n",
    "print(\"\\nMinimum Volatility Portfolio:\")\n",
    "for i, asset in enumerate(assets):\n",
    "    print(f\"{asset}: {min_vol_weights[i]:.3f}\")"
   ]
  },
  {
   "cell_type": "code",
   "execution_count": null,
   "metadata": {},
   "outputs": [],
   "source": [
    "# Plot efficient frontier\n",
    "max_sharpe, min_vol = optimizer.plot_efficient_frontier()"
   ]
  },
  {
   "cell_type": "code",
   "execution_count": null,
   "metadata": {},
   "outputs": [],
   "source": [
    "# Portfolio performance metrics\n",
    "max_sharpe_return, max_sharpe_vol = optimizer.portfolio_performance(max_sharpe_weights)\n",
    "sharpe_ratio = (max_sharpe_return - 0.02) / max_sharpe_vol\n",
    "\n",
    "print(f\"Optimal Portfolio Metrics:\")\n",
    "print(f\"Expected Annual Return: {max_sharpe_return:.3f}\")\n",
    "print(f\"Annual Volatility: {max_sharpe_vol:.3f}\")\n",
    "print(f\"Sharpe Ratio: {sharpe_ratio:.3f}\")"
   ]
  }
 ],
 "metadata": {
  "kernelspec": {
   "display_name": "Python 3",
   "language": "python",
   "name": "python3"
  },
  "language_info": {
   "name": "python",
   "version": "3.8.5"
  }
 },
 "nbformat": 4,
 "nbformat_minor": 4
}