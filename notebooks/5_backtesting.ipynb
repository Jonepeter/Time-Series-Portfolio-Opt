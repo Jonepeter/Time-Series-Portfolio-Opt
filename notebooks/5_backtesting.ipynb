{
 "cells": [
  {
   "cell_type": "markdown",
   "metadata": {},
   "source": [
    "# Task 5: Strategy Backtesting\n",
    "## Performance Evaluation vs Benchmark"
   ]
  },
  {
   "cell_type": "code",
   "execution_count": null,
   "metadata": {},
   "outputs": [],
   "source": [
    "import sys\n",
    "sys.path.append('../src')\n",
    "\n",
    "from data_loader import DataLoader\n",
    "from portfolio_optimizer import PortfolioOptimizer\n",
    "from backtester import Backtester"
   ]
  },
  {
   "cell_type": "code",
   "execution_count": null,
   "metadata": {},
   "outputs": [],
   "source": [
    "# Load data and optimize portfolio\n",
    "loader = DataLoader()\n",
    "raw_data = loader.fetch_data()\n",
    "processed_data = loader.preprocess_data(raw_data)\n",
    "returns_data = loader.get_combined_returns(processed_data)\n",
    "\n",
    "optimizer = PortfolioOptimizer(returns_data)\n",
    "optimal_weights = optimizer.optimize_portfolio('sharpe')"
   ]
  },
  {
   "cell_type": "code",
   "execution_count": null,
   "metadata": {},
   "outputs": [],
   "source": [
    "# Backtest strategy\n",
    "backtester = Backtester(returns_data, optimal_weights)\n",
    "performance_comparison = backtester.plot_backtest_results()\n",
    "\n",
    "print(\"Performance Comparison:\")\n",
    "display(performance_comparison)"
   ]
  },
  {
   "cell_type": "code",
   "execution_count": null,
   "metadata": {},
   "outputs": [],
   "source": [
    "# Analysis summary\n",
    "strategy_outperformed = performance_comparison.loc['sharpe_ratio', 'Strategy'] > performance_comparison.loc['sharpe_ratio', 'Benchmark']\n",
    "print(f\"\\nStrategy outperformed benchmark: {strategy_outperformed}\")\n",
    "print(f\"Strategy Sharpe Ratio: {performance_comparison.loc['sharpe_ratio', 'Strategy']:.3f}\")\n",
    "print(f\"Benchmark Sharpe Ratio: {performance_comparison.loc['sharpe_ratio', 'Benchmark']:.3f}\")"
   ]
  }
 ],
 "metadata": {
  "kernelspec": {
   "display_name": "Python 3",
   "language": "python",
   "name": "python3"
  },
  "language_info": {
   "name": "python",
   "version": "3.8.5"
  }
 },
 "nbformat": 4,
 "nbformat_minor": 4
}